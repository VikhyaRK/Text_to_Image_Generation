{
 "cells": [
  {
   "cell_type": "code",
   "execution_count": null,
   "id": "b48dff40",
   "metadata": {},
   "outputs": [
    {
     "name": "stderr",
     "output_type": "stream",
     "text": [
      "C:\\Users\\HP\\anaconda3\\lib\\site-packages\\diffusers\\models\\transformers\\transformer_2d.py:34: FutureWarning: `Transformer2DModelOutput` is deprecated and will be removed in version 1.0.0. Importing `Transformer2DModelOutput` from `diffusers.models.transformer_2d` is deprecated and this will be removed in a future version. Please use `from diffusers.models.modeling_outputs import Transformer2DModelOutput`, instead.\n",
      "  deprecate(\"Transformer2DModelOutput\", \"1.0.0\", deprecation_message)\n"
     ]
    },
    {
     "data": {
      "application/vnd.jupyter.widget-view+json": {
       "model_id": "fc9337ce183245618d6b40e420c01e39",
       "version_major": 2,
       "version_minor": 0
      },
      "text/plain": [
       "Fetching 16 files:   0%|          | 0/16 [00:00<?, ?it/s]"
      ]
     },
     "metadata": {},
     "output_type": "display_data"
    },
    {
     "name": "stderr",
     "output_type": "stream",
     "text": [
      "C:\\Users\\HP\\anaconda3\\lib\\site-packages\\huggingface_hub\\file_download.py:982: UserWarning: Not enough free disk space to download the file. The expected file size is: 3438.17 MB. The target location C:\\Users\\HP\\.cache\\huggingface\\hub\\models--CompVis--stable-diffusion-v1-4\\blobs only has 2702.10 MB free disk space.\n",
      "  warnings.warn(\n"
     ]
    },
    {
     "data": {
      "application/vnd.jupyter.widget-view+json": {
       "model_id": "fab247244f3f42dcae6cd1cc388a88ea",
       "version_major": 2,
       "version_minor": 0
      },
      "text/plain": [
       "model.safetensors:  16%|#5        | 189M/1.22G [00:00<?, ?B/s]"
      ]
     },
     "metadata": {},
     "output_type": "display_data"
    },
    {
     "data": {
      "application/vnd.jupyter.widget-view+json": {
       "model_id": "ffa6ec7bca6d4f6ebe73d551962409bf",
       "version_major": 2,
       "version_minor": 0
      },
      "text/plain": [
       "diffusion_pytorch_model.safetensors:   6%|6         | 220M/3.44G [00:00<?, ?B/s]"
      ]
     },
     "metadata": {},
     "output_type": "display_data"
    },
    {
     "data": {
      "application/vnd.jupyter.widget-view+json": {
       "model_id": "6e2bddf2a27b405d8f135afd800d420e",
       "version_major": 2,
       "version_minor": 0
      },
      "text/plain": [
       "model.safetensors:  19%|#9        | 94.4M/492M [00:00<?, ?B/s]"
      ]
     },
     "metadata": {},
     "output_type": "display_data"
    },
    {
     "data": {
      "application/vnd.jupyter.widget-view+json": {
       "model_id": "61d2222e668e4142914454a49b5d9b7d",
       "version_major": 2,
       "version_minor": 0
      },
      "text/plain": [
       "diffusion_pytorch_model.safetensors:  56%|#####6    | 189M/335M [00:00<?, ?B/s]"
      ]
     },
     "metadata": {},
     "output_type": "display_data"
    },
    {
     "name": "stderr",
     "output_type": "stream",
     "text": [
      "C:\\Users\\HP\\anaconda3\\lib\\site-packages\\huggingface_hub\\file_download.py:157: UserWarning: `huggingface_hub` cache-system uses symlinks by default to efficiently store duplicated files but your machine does not support them in C:\\Users\\HP\\.cache\\huggingface\\hub\\models--CompVis--stable-diffusion-v1-4. Caching files will still work but in a degraded version that might require more space on your disk. This warning can be disabled by setting the `HF_HUB_DISABLE_SYMLINKS_WARNING` environment variable. For more details, see https://huggingface.co/docs/huggingface_hub/how-to-cache#limitations.\n",
      "To support symlinks on Windows, you either need to activate Developer Mode or to run Python as an administrator. In order to see activate developer mode, see this article: https://docs.microsoft.com/en-us/windows/apps/get-started/enable-your-device-for-development\n",
      "  warnings.warn(message)\n"
     ]
    },
    {
     "name": "stdout",
     "output_type": "stream",
     "text": [
      "Error loading Stable Diffusion pipeline: [Errno 28] No space left on device\n"
     ]
    }
   ],
   "source": [
    "import customtkinter as ctk\n",
    "from PIL import ImageTk, Image\n",
    "from diffusers import StableDiffusionPipeline\n",
    "import torch\n",
    "\n",
    "# Create the main window\n",
    "app = ctk.CTk()\n",
    "app.geometry(\"800x700\")\n",
    "app.title(\"Stable Diffusion GUI\")\n",
    "\n",
    "# Create the CTkEntry widget\n",
    "prompt = ctk.CTkEntry(app, height=40, width=512, font=(\"Arial\", 20), text_color=\"black\", fg_color=\"white\")\n",
    "prompt.place(x=10, y=10)\n",
    "\n",
    "# Create the CTkLabel widget\n",
    "lmain = ctk.CTkLabel(app, height=512, width=512)\n",
    "lmain.place(x=10, y=110)\n",
    "\n",
    "# Stable Diffusion setup\n",
    "modelid = \"CompVis/stable-diffusion-v1-4\"\n",
    "device = \"cuda\" if torch.cuda.is_available() else \"cpu\"\n",
    "auth_token = \"your_auth_token_here\"  # Replace with your actual token\n",
    "\n",
    "try:\n",
    "    pipe = StableDiffusionPipeline.from_pretrained(\n",
    "        modelid, \n",
    "        revision=\"fp16\" if device == \"cuda\" else \"main\", \n",
    "        torch_dtype=torch.float16 if device == \"cuda\" else torch.float32,\n",
    "        use_authentication_token=auth_token\n",
    "    )\n",
    "    pipe.to(device)\n",
    "except Exception as e:\n",
    "    print(f\"Error loading Stable Diffusion pipeline: {e}\")\n",
    "\n",
    "# Placeholder function for generating an image\n",
    "def generate_image():\n",
    "    user_prompt = prompt.get()\n",
    "    if user_prompt and pipe:\n",
    "        with torch.no_grad():\n",
    "            image = pipe(user_prompt).images[0]\n",
    "            image.save(\"output.png\")\n",
    "            img = ImageTk.PhotoImage(Image.open(\"output.png\").resize((512, 512)))\n",
    "            lmain.configure(image=img)\n",
    "            lmain.image = img\n",
    "\n",
    "# Add a button to trigger image generation\n",
    "generate_button = ctk.CTkButton(app, text=\"Generate\", command=generate_image)\n",
    "generate_button.place(x=540, y=10)\n",
    "\n",
    "# Run the main loop\n",
    "app.mainloop()\n"
   ]
  },
  {
   "cell_type": "code",
   "execution_count": null,
   "id": "00676c1a",
   "metadata": {},
   "outputs": [],
   "source": []
  }
 ],
 "metadata": {
  "kernelspec": {
   "display_name": "Python 3 (ipykernel)",
   "language": "python",
   "name": "python3"
  },
  "language_info": {
   "codemirror_mode": {
    "name": "ipython",
    "version": 3
   },
   "file_extension": ".py",
   "mimetype": "text/x-python",
   "name": "python",
   "nbconvert_exporter": "python",
   "pygments_lexer": "ipython3",
   "version": "3.10.13"
  }
 },
 "nbformat": 4,
 "nbformat_minor": 5
}
